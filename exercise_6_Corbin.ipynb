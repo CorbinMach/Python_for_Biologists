{
 "cells": [
  {
   "cell_type": "markdown",
   "metadata": {},
   "source": [
    "# Exercises - lecture 6"
   ]
  },
  {
   "cell_type": "code",
   "execution_count": 10,
   "metadata": {
    "ExecuteTime": {
     "end_time": "2021-12-07T13:26:29.450806Z",
     "start_time": "2021-12-07T13:26:28.932265Z"
    }
   },
   "outputs": [],
   "source": [
    "import numpy as np\n",
    "import scipy as sp\n",
    "import pandas as pd\n",
    "import matplotlib.pyplot as plt\n",
    "import scipy.ndimage\n",
    "from scipy.optimize import curve_fit\n",
    "from scipy.interpolate import CubicSpline"
   ]
  },
  {
   "cell_type": "code",
   "execution_count": 2,
   "metadata": {
    "ExecuteTime": {
     "end_time": "2021-12-07T13:26:29.466850Z",
     "start_time": "2021-12-07T13:26:29.456327Z"
    }
   },
   "outputs": [],
   "source": [
    "figsizesmall = (8,6)\n",
    "figuresize = (10,6)\n",
    "figsizelarge = (15,10) "
   ]
  },
  {
   "cell_type": "markdown",
   "metadata": {},
   "source": [
    "## Interpolation\n",
    "\n",
    "Ideally, use your own data and try out the different interpolation schemes, measure the time it takes and present it in the tutorial.\n",
    "If you do not have any data use the data provided in the interpolation.txt"
   ]
  },
  {
   "cell_type": "markdown",
   "metadata": {},
   "source": [
    "### Numpy interpolation"
   ]
  },
  {
   "cell_type": "code",
   "execution_count": 5,
   "metadata": {},
   "outputs": [
    {
     "data": {
      "text/html": [
       "<div>\n",
       "<style scoped>\n",
       "    .dataframe tbody tr th:only-of-type {\n",
       "        vertical-align: middle;\n",
       "    }\n",
       "\n",
       "    .dataframe tbody tr th {\n",
       "        vertical-align: top;\n",
       "    }\n",
       "\n",
       "    .dataframe thead th {\n",
       "        text-align: right;\n",
       "    }\n",
       "</style>\n",
       "<table border=\"1\" class=\"dataframe\">\n",
       "  <thead>\n",
       "    <tr style=\"text-align: right;\">\n",
       "      <th></th>\n",
       "      <th>conc DNA</th>\n",
       "      <th>Rep 1</th>\n",
       "      <th>Rep 2</th>\n",
       "      <th>Rep 3</th>\n",
       "      <th>Average</th>\n",
       "      <th>STDEV</th>\n",
       "    </tr>\n",
       "  </thead>\n",
       "  <tbody>\n",
       "    <tr>\n",
       "      <th>0</th>\n",
       "      <td>0.001</td>\n",
       "      <td>1164</td>\n",
       "      <td>1206</td>\n",
       "      <td>2914</td>\n",
       "      <td>1761.333333</td>\n",
       "      <td>998.459480</td>\n",
       "    </tr>\n",
       "    <tr>\n",
       "      <th>1</th>\n",
       "      <td>0.005</td>\n",
       "      <td>970</td>\n",
       "      <td>906</td>\n",
       "      <td>769</td>\n",
       "      <td>881.666667</td>\n",
       "      <td>102.685604</td>\n",
       "    </tr>\n",
       "    <tr>\n",
       "      <th>2</th>\n",
       "      <td>0.010</td>\n",
       "      <td>595</td>\n",
       "      <td>643</td>\n",
       "      <td>458</td>\n",
       "      <td>565.333333</td>\n",
       "      <td>96.001736</td>\n",
       "    </tr>\n",
       "    <tr>\n",
       "      <th>3</th>\n",
       "      <td>0.025</td>\n",
       "      <td>884</td>\n",
       "      <td>1139</td>\n",
       "      <td>956</td>\n",
       "      <td>993.000000</td>\n",
       "      <td>131.464824</td>\n",
       "    </tr>\n",
       "    <tr>\n",
       "      <th>4</th>\n",
       "      <td>0.050</td>\n",
       "      <td>1958</td>\n",
       "      <td>2066</td>\n",
       "      <td>1844</td>\n",
       "      <td>1956.000000</td>\n",
       "      <td>111.013513</td>\n",
       "    </tr>\n",
       "    <tr>\n",
       "      <th>5</th>\n",
       "      <td>0.100</td>\n",
       "      <td>5758</td>\n",
       "      <td>6083</td>\n",
       "      <td>5479</td>\n",
       "      <td>5773.333333</td>\n",
       "      <td>302.291802</td>\n",
       "    </tr>\n",
       "    <tr>\n",
       "      <th>6</th>\n",
       "      <td>0.250</td>\n",
       "      <td>21157</td>\n",
       "      <td>21447</td>\n",
       "      <td>21564</td>\n",
       "      <td>21389.333333</td>\n",
       "      <td>209.538382</td>\n",
       "    </tr>\n",
       "    <tr>\n",
       "      <th>7</th>\n",
       "      <td>0.500</td>\n",
       "      <td>39438</td>\n",
       "      <td>43058</td>\n",
       "      <td>42953</td>\n",
       "      <td>41816.333333</td>\n",
       "      <td>2060.366068</td>\n",
       "    </tr>\n",
       "    <tr>\n",
       "      <th>8</th>\n",
       "      <td>1.000</td>\n",
       "      <td>64301</td>\n",
       "      <td>66777</td>\n",
       "      <td>63329</td>\n",
       "      <td>64802.333333</td>\n",
       "      <td>1777.829388</td>\n",
       "    </tr>\n",
       "    <tr>\n",
       "      <th>9</th>\n",
       "      <td>2.500</td>\n",
       "      <td>84197</td>\n",
       "      <td>85556</td>\n",
       "      <td>84395</td>\n",
       "      <td>84716.000000</td>\n",
       "      <td>734.166875</td>\n",
       "    </tr>\n",
       "    <tr>\n",
       "      <th>10</th>\n",
       "      <td>5.000</td>\n",
       "      <td>88615</td>\n",
       "      <td>89946</td>\n",
       "      <td>90959</td>\n",
       "      <td>89840.000000</td>\n",
       "      <td>1175.589639</td>\n",
       "    </tr>\n",
       "    <tr>\n",
       "      <th>11</th>\n",
       "      <td>10.000</td>\n",
       "      <td>106540</td>\n",
       "      <td>108553</td>\n",
       "      <td>107667</td>\n",
       "      <td>107586.666667</td>\n",
       "      <td>1008.901548</td>\n",
       "    </tr>\n",
       "  </tbody>\n",
       "</table>\n",
       "</div>"
      ],
      "text/plain": [
       "    conc DNA   Rep 1   Rep 2   Rep 3        Average        STDEV\n",
       "0      0.001    1164    1206    2914    1761.333333   998.459480\n",
       "1      0.005     970     906     769     881.666667   102.685604\n",
       "2      0.010     595     643     458     565.333333    96.001736\n",
       "3      0.025     884    1139     956     993.000000   131.464824\n",
       "4      0.050    1958    2066    1844    1956.000000   111.013513\n",
       "5      0.100    5758    6083    5479    5773.333333   302.291802\n",
       "6      0.250   21157   21447   21564   21389.333333   209.538382\n",
       "7      0.500   39438   43058   42953   41816.333333  2060.366068\n",
       "8      1.000   64301   66777   63329   64802.333333  1777.829388\n",
       "9      2.500   84197   85556   84395   84716.000000   734.166875\n",
       "10     5.000   88615   89946   90959   89840.000000  1175.589639\n",
       "11    10.000  106540  108553  107667  107586.666667  1008.901548"
      ]
     },
     "execution_count": 5,
     "metadata": {},
     "output_type": "execute_result"
    }
   ],
   "source": [
    "df_binding_coeff = pd.read_excel(r\"C:\\Users\\admin\\Desktop\\PhD\\Experimente\\Project 2 with Mahesh\\20231122 tLett binding coeff no-Eco2 less DFHBI-1T\\20231122_results.xlsx\",\n",
    "                                sheet_name =\"Tabelle1\")\n",
    "df_binding_coeff"
   ]
  },
  {
   "cell_type": "code",
   "execution_count": 7,
   "metadata": {},
   "outputs": [],
   "source": [
    "inter_binding_conc = np.linspace(0, 10, 1000)\n",
    "inter_binding_np = np.interp(inter_binding_conc, df_binding_coeff[\"conc DNA\"],\n",
    "                            df_binding_coeff[\"Average\"])"
   ]
  },
  {
   "cell_type": "code",
   "execution_count": 9,
   "metadata": {},
   "outputs": [
    {
     "data": {
      "image/png": "[encoded data removed]",
      "text/plain": [
       "<Figure size 720x432 with 1 Axes>"
      ]
     },
     "metadata": {
      "needs_background": "light"
     },
     "output_type": "display_data"
    }
   ],
   "source": [
    "plt.figure(figsize=figuresize)\n",
    "\n",
    "plt.scatter(df_binding_coeff[\"conc DNA\"], df_binding_coeff[\"Average\"], \n",
    "            label = \"raw data\")\n",
    "plt.errorbar(df_binding_coeff[\"conc DNA\"], df_binding_coeff[\"Average\"], \n",
    "             yerr=df_binding_coeff[\"STDEV\"], linestyle =\"None\", color=\"Black\",\n",
    "            capsize=3, label=\"_nolegend_\")\n",
    "plt.plot(inter_binding_conc, inter_binding_np, label = \"Interpolation\", \n",
    "         color=\"Blue\")\n",
    "\n",
    "plt.legend()\n",
    "plt.xlabel(\"[DNA] / µM\") \n",
    "plt.ylabel(\"Fluorescence / a.u\")\n",
    "plt.show()"
   ]
  },
  {
   "cell_type": "markdown",
   "metadata": {},
   "source": [
    "### Cubic splines"
   ]
  },
  {
   "cell_type": "code",
   "execution_count": 11,
   "metadata": {},
   "outputs": [],
   "source": [
    "cs_binding = CubicSpline(df_binding_coeff[\"conc DNA\"],\n",
    "                         df_binding_coeff[\"Average\"])"
   ]
  },
  {
   "cell_type": "code",
   "execution_count": 12,
   "metadata": {},
   "outputs": [],
   "source": [
    "inter_binding_cs = cs_binding(inter_binding_conc)"
   ]
  },
  {
   "cell_type": "code",
   "execution_count": 13,
   "metadata": {},
   "outputs": [
    {
     "data": {
      "image/png": "[encoded data removed]",
      "text/plain": [
       "<Figure size 720x432 with 1 Axes>"
      ]
     },
     "metadata": {
      "needs_background": "light"
     },
     "output_type": "display_data"
    }
   ],
   "source": [
    "plt.figure(figsize=figuresize)\n",
    "\n",
    "plt.scatter(df_binding_coeff[\"conc DNA\"], df_binding_coeff[\"Average\"], \n",
    "            label = \"raw data\")\n",
    "plt.errorbar(df_binding_coeff[\"conc DNA\"], df_binding_coeff[\"Average\"], \n",
    "             yerr=df_binding_coeff[\"STDEV\"], linestyle =\"None\", color=\"Black\",\n",
    "            capsize=3, label=\"_nolegend_\")\n",
    "plt.plot(inter_binding_conc, inter_binding_np, label = \"Interpolation\", \n",
    "         color=\"Blue\")\n",
    "plt.plot(inter_binding_conc, inter_binding_cs, label = \"CubicSpline\",\n",
    "        color=\"Orange\")\n",
    "\n",
    "plt.legend()\n",
    "plt.xlabel(\"[DNA] / µM\")\n",
    "plt.ylabel(\"Fluorescence / a.u\")\n",
    "plt.show()"
   ]
  },
  {
   "cell_type": "markdown",
   "metadata": {},
   "source": [
    "## Fitting"
   ]
  },
  {
   "cell_type": "markdown",
   "metadata": {},
   "source": [
    "### Read in the data from the fitting.txt file, plot them"
   ]
  },
  {
   "cell_type": "markdown",
   "metadata": {},
   "source": [
    "Instead, I am using my own data and fitting it with a custom function for binding coefficients"
   ]
  },
  {
   "cell_type": "code",
   "execution_count": 20,
   "metadata": {},
   "outputs": [
    {
     "data": {
      "image/png": "[encoded data removed]",
      "text/plain": [
       "<Figure size 720x432 with 1 Axes>"
      ]
     },
     "metadata": {
      "needs_background": "light"
     },
     "output_type": "display_data"
    }
   ],
   "source": [
    "plt.figure(figsize=figuresize)\n",
    "\n",
    "plt.xscale(\"log\")\n",
    "plt.scatter(df_binding_coeff[\"conc DNA\"], df_binding_coeff[\"Average\"], \n",
    "            label = \"raw data\")\n",
    "plt.errorbar(df_binding_coeff[\"conc DNA\"], df_binding_coeff[\"Average\"], \n",
    "             yerr=df_binding_coeff[\"STDEV\"], linestyle =\"None\", color=\"Black\",\n",
    "            capsize=3, label=\"_nolegend_\")\n",
    "\n",
    "plt.legend()\n",
    "plt.xlabel(\"[DNA] / µM\") \n",
    "plt.ylabel(\"Fluorescence / a.u\")\n",
    "plt.show()"
   ]
  },
  {
   "cell_type": "markdown",
   "metadata": {},
   "source": [
    "### Fit the data with a polynomial using numpy.polyfit"
   ]
  },
  {
   "cell_type": "code",
   "execution_count": 14,
   "metadata": {},
   "outputs": [],
   "source": [
    "def Kd_fit(At, C0, C1, Kd, Bt=1):\n",
    "    return (C1 * ((((At+Bt+Kd)-np.sqrt(((At+Bt+Kd)**2)-4*(At*Bt)))/2)/Bt)) + C0"
   ]
  },
  {
   "cell_type": "code",
   "execution_count": 27,
   "metadata": {},
   "outputs": [],
   "source": [
    "initial_guess = [1000, 90000, 0.5]\n",
    "bounds = ([0, 0, 0], [7000, 120000, 10])\n",
    "cont_conc = np.linspace(0, 10, 1000)"
   ]
  },
  {
   "cell_type": "code",
   "execution_count": 28,
   "metadata": {},
   "outputs": [
    {
     "name": "stdout",
     "output_type": "stream",
     "text": [
      "Fitted C0: 103.21643285740855\n",
      "Fitted C1: 102144.94840196056\n",
      "Fitted Kd: 0.23680355795085803\n"
     ]
    }
   ],
   "source": [
    "params, covariance = curve_fit(Kd_fit, xdata=df_binding_coeff[\"conc DNA\"], \n",
    "                               ydata=df_binding_coeff[\"Average\"],\n",
    "                               p0=initial_guess, bounds=bounds)\n",
    "\n",
    "C0_fit_no_Eco2, C1_fit_no_Eco2, Kd_fit_no_Eco2 = params\n",
    "\n",
    "print(f\"Fitted C0: {C0_fit_no_Eco2}\")\n",
    "print(f\"Fitted C1: {C1_fit_no_Eco2}\")\n",
    "print(f\"Fitted Kd: {Kd_fit_no_Eco2}\")"
   ]
  },
  {
   "cell_type": "code",
   "execution_count": 23,
   "metadata": {},
   "outputs": [
    {
     "data": {
      "image/png": "[encoded data removed]",
      "text/plain": [
       "<Figure size 720x432 with 1 Axes>"
      ]
     },
     "metadata": {
      "needs_background": "light"
     },
     "output_type": "display_data"
    }
   ],
   "source": [
    "plt.figure(figsize=figuresize)\n",
    "\n",
    "plt.xscale(\"log\")\n",
    "plt.scatter(df_binding_coeff[\"conc DNA\"], df_binding_coeff[\"Average\"], \n",
    "            label = \"raw data\")\n",
    "plt.errorbar(df_binding_coeff[\"conc DNA\"], df_binding_coeff[\"Average\"], \n",
    "             yerr=df_binding_coeff[\"STDEV\"], linestyle =\"None\", color=\"Black\",\n",
    "            capsize=3, label=\"_nolegend_\")\n",
    "plt.plot(cont_conc, Kd_fit(cont_conc, C0_fit_no_Eco2, C1_fit_no_Eco2, \n",
    "                           Kd_fit_no_Eco2), label=\"Fit\", color='blue')\n",
    "\n",
    "plt.legend()\n",
    "plt.xlabel(\"[DNA] / µM\") \n",
    "plt.ylabel(\"Fluorescence / a.u\")\n",
    "plt.show()"
   ]
  },
  {
   "cell_type": "markdown",
   "metadata": {},
   "source": [
    "### Using scipy curve fit, try fitting the data with a single exponential and a superposition of two exponentials"
   ]
  },
  {
   "cell_type": "markdown",
   "metadata": {},
   "source": [
    "### Bonus: Compare the chi-square values (sum of quadratic distances of datapoints to fit) for all three fits performed"
   ]
  },
  {
   "cell_type": "code",
   "execution_count": 35,
   "metadata": {
    "scrolled": true
   },
   "outputs": [
    {
     "name": "stdout",
     "output_type": "stream",
     "text": [
      "170246862.03612804\n"
     ]
    }
   ],
   "source": [
    "chisquare = np.sum((df_binding_coeff[\"Average\"] - Kd_fit(df_binding_coeff[\"conc DNA\"], \n",
    "                                                         C0_fit_no_Eco2, C1_fit_no_Eco2, \n",
    "                                                         Kd_fit_no_Eco2)) ** 2)\n",
    "\n",
    "print(chisquare)"
   ]
  },
  {
   "cell_type": "code",
   "execution_count": 37,
   "metadata": {},
   "outputs": [
    {
     "name": "stdout",
     "output_type": "stream",
     "text": [
      "14187238.50301067\n"
     ]
    }
   ],
   "source": [
    "chisquare_per_value = chisquare / len(df_binding_coeff[\"conc DNA\"])\n",
    "\n",
    "print(chisquare_per_value)"
   ]
  },
  {
   "cell_type": "markdown",
   "metadata": {},
   "source": [
    "## Advanced fitting"
   ]
  },
  {
   "cell_type": "markdown",
   "metadata": {},
   "source": [
    "### Read in the gaussians_2d file, the y_axis and x_axis and plot them as a contour plot"
   ]
  },
  {
   "cell_type": "markdown",
   "metadata": {},
   "source": [
    "### Fit the sum of 2 Gaussians to the data  in the file by generating a 2D loss function, plot this loss function and minimize it."
   ]
  },
  {
   "cell_type": "markdown",
   "metadata": {},
   "source": [
    "## Filtering"
   ]
  },
  {
   "cell_type": "markdown",
   "metadata": {},
   "source": [
    "### Read in the data from the filtering.txt file, plot them"
   ]
  },
  {
   "cell_type": "markdown",
   "metadata": {},
   "source": [
    "### Apply the savgol and moving average filter to the data. Adjust the options (window sizes, polynomial degrees etc.)."
   ]
  },
  {
   "cell_type": "markdown",
   "metadata": {},
   "source": [
    "### Apply the fourier filter"
   ]
  },
  {
   "cell_type": "markdown",
   "metadata": {},
   "source": [
    "### Bonus: Create an interactive plot with all the filter methods, the noisy data and the noise free data where you can choose which lines to look at so you can compare better"
   ]
  },
  {
   "cell_type": "markdown",
   "metadata": {},
   "source": [
    "### Adapt the fourier solution from the lecture to give you the frequencies and amplitudes of the cleaned signal"
   ]
  }
 ],
 "metadata": {
  "kernelspec": {
   "display_name": "Python 3",
   "language": "python",
   "name": "python3"
  },
  "language_info": {
   "codemirror_mode": {
    "name": "ipython",
    "version": 3
   },
   "file_extension": ".py",
   "mimetype": "text/x-python",
   "name": "python",
   "nbconvert_exporter": "python",
   "pygments_lexer": "ipython3",
   "version": "3.8.8"
  },
  "toc": {
   "base_numbering": 1,
   "nav_menu": {},
   "number_sections": true,
   "sideBar": true,
   "skip_h1_title": true,
   "title_cell": "Table of Contents",
   "title_sidebar": "Contents",
   "toc_cell": false,
   "toc_position": {
    "height": "calc(100% - 180px)",
    "left": "10px",
    "top": "150px",
    "width": "302.389709px"
   },
   "toc_section_display": true,
   "toc_window_display": true
  },
  "varInspector": {
   "cols": {
    "lenName": 16,
    "lenType": 16,
    "lenVar": 40
   },
   "kernels_config": {
    "python": {
     "delete_cmd_postfix": "",
     "delete_cmd_prefix": "del ",
     "library": "var_list.py",
     "varRefreshCmd": "print(var_dic_list())"
    },
    "r": {
     "delete_cmd_postfix": ") ",
     "delete_cmd_prefix": "rm(",
     "library": "var_list.r",
     "varRefreshCmd": "cat(var_dic_list()) "
    }
   },
   "types_to_exclude": [
    "module",
    "function",
    "builtin_function_or_method",
    "instance",
    "_Feature"
   ],
   "window_display": false
  }
 },
 "nbformat": 4,
 "nbformat_minor": 2
}
